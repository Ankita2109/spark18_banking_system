{
 "cells": [
  {
   "cell_type": "code",
   "execution_count": 34,
   "id": "crude-scotland",
   "metadata": {},
   "outputs": [],
   "source": [
    "import pandas as pd\n",
    "import hashlib\n",
    "import os\n",
    "import datetime as dt\n",
    "import numpy as np\n",
    "import pprint\n",
    "import re\n",
    "import email,smtplib, ssl\n",
    "from email import encoders\n",
    "from email.mime.base import MIMEBase\n",
    "from email.mime.multipart import MIMEMultipart\n",
    "from email.mime.text import MIMEText"
   ]
  },
  {
   "cell_type": "code",
   "execution_count": 3,
   "id": "tight-serum",
   "metadata": {},
   "outputs": [],
   "source": [
    "# e_ids=[\"ankitasngh21@gmail.com\",\"jaijain96@gmail.com\"]\n",
    "# pwds =[\"ankita\",\"jai\"]\n",
    "# d = {\"email_id\": e_ids,\n",
    "#      \"name\": [\"ankita\",\"jai\"],\n",
    "#      \"balance\":[0.0,0.0],\n",
    "#      \"eid_hash\":[hashlib.sha256(e_ids[0].encode(\"utf8\")).hexdigest(),hashlib.sha256(e_ids[1].encode(\"utf8\")).hexdigest()],\n",
    "#      \"pwd_hash\":[hashlib.sha256(pwds[0].encode(\"utf8\")).hexdigest(),hashlib.sha256(pwds[1].encode(\"utf8\")).hexdigest()],\n",
    "#      }\n",
    "# df = pd.DataFrame(data=d)"
   ]
  },
  {
   "cell_type": "code",
   "execution_count": 6,
   "id": "streaming-peter",
   "metadata": {},
   "outputs": [
    {
     "name": "stdout",
     "output_type": "stream",
     "text": [
      "{'ankitasngh21@gmail.com': {'pwd': '27c62a77d1e3f9b071d642bb5d368833254f697d5f91b7835e5102724272ba89', 'balance': 0.0}, 'jaijain96@gmail.com': {'pwd': 'bd3f131a260c9e6a5089eb46ca7ea1711102540805bf9b6ccdcc6f8c0995af38', 'balance': 0.0}}\n"
     ]
    }
   ],
   "source": [
    "# customer_data = {\n",
    "#         e_ids[0] : {\n",
    "#                       \"pwd\" : hashlib.sha256(pwds[0].encode(\"utf8\")).hexdigest(),\n",
    "#                       \"balance\" : 0.0\n",
    "#          },\n",
    "#         e_ids[1] : {\n",
    "#                       \"pwd\" : hashlib.sha256(pwds[1].encode(\"utf8\")).hexdigest(),\n",
    "#                       \"balance\" : 0.0\n",
    "#          }\n",
    "# }\n",
    "# np.save(\"customer_data.npy\" ,customer_data)"
   ]
  },
  {
   "cell_type": "code",
   "execution_count": 2,
   "id": "lightweight-advertiser",
   "metadata": {},
   "outputs": [
    {
     "name": "stdout",
     "output_type": "stream",
     "text": [
      "{'ankitasngh21@gmail.com': {'balance': 995.0,\n",
      "                            'pwd': '27c62a77d1e3f9b071d642bb5d368833254f697d5f91b7835e5102724272ba89'},\n",
      " 'jaijain96@gmail.com': {'balance': 500.0,\n",
      "                         'pwd': 'bd3f131a260c9e6a5089eb46ca7ea1711102540805bf9b6ccdcc6f8c0995af38'},\n",
      " 'manager': {'balance': 0.0,\n",
      "             'pwd': '8c6976e5b5410415bde908bd4dee15dfb167a9c873fc4bb8a81f6f2ab448a918'},\n",
      " 'spark18manager@gmail.com': {'balance': 0.0,\n",
      "                              'pwd': 'b9872adca3acd38ca5d82057aa7a6606a644b0425f291e57165e4947e4df11b4'},\n",
      " 'xyz@gmail.com': {'balance': 0.0,\n",
      "                   'pwd': '3608bca1e44ea6c4d268eb6db02260269892c0b42b86bbf1e77a6fa16c3c9282'}}\n"
     ]
    }
   ],
   "source": [
    "customer_data = np.load(\"customer_data.npy\" , allow_pickle = True).tolist()\n",
    "pprint.pprint(customer_data)"
   ]
  },
  {
   "cell_type": "code",
   "execution_count": 35,
   "id": "familiar-acting",
   "metadata": {},
   "outputs": [
    {
     "name": "stdout",
     "output_type": "stream",
     "text": [
      "[1] Login\n",
      "[2] Register\n",
      "[3] Login as Manager\n",
      "Please select anyone of the above options: 3\n",
      "Please enter manager id: spark18manager@gmail.com\n",
      "Please enter manager password: spark_18@ankita\n",
      "0 ankitasngh21@gmail.com\n",
      "1 jaijain96@gmail.com\n",
      "2 xyz@gmail.com\n",
      "please select the indexes of customers you want to view transactions for, separated by spaces: 0\n",
      "you have selected the following valid indices : \n",
      "0 ankitasngh21@gmail.com\n",
      "please enter the date time period you want to see transaction\n",
      "from year: 2021\n",
      "from month: 2\n",
      "from day: 1\n",
      "to year: 2021\n",
      "to month: 4\n",
      "to day: 1\n",
      "transactions for time period  2021-02-01 00:00:00  to  2021-04-01 00:00:00\n",
      "      date_time  balance transaction_type\n",
      "0  1.616742e+09   1000.0          deposit\n",
      "1  1.616742e+09    995.0        withdrawl\n",
      "Do you want to mail yourself this transaction: y\n"
     ]
    }
   ],
   "source": [
    "option =int(input(\"[1] Login\\n[2] Register\\n[3] Login as Manager\\nPlease select anyone of the above options: \"))\n",
    "if option == 1:\n",
    "    login_id = input(\"Please enter your login id : \")\n",
    "    login_pwd = input(\"please enter your password : \")\n",
    "    if (login_id in customer_data) and (customer_data[login_id][\"pwd\"] == hashlib.sha256(login_pwd.encode(\"utf8\")).hexdigest()):\n",
    "        print(\"loggedIn\")\n",
    "        trans_hist = load_transaction_history(login_id)\n",
    "        do_transaction(customer_data,login_id,trans_hist)\n",
    "        save_transaction_history(trans_hist,login_id)\n",
    "    else:\n",
    "        print(\"Invalid UserId or Password\")\n",
    "elif option == 2:\n",
    "    login_id = input(\"Please enter your email id : \")\n",
    "    login_pwd_0 = input(\"please enter your password : \")\n",
    "    login_pwd_1 = input(\"confirm password : \")\n",
    "    if login_pwd_0 == login_pwd_1 :\n",
    "        customer_data[login_id] = {\n",
    "            \"balance\": 0.0 ,\n",
    "            \"pwd\" : hashlib.sha256(login_pwd_0.encode(\"utf8\")).hexdigest()\n",
    "        }\n",
    "        print(\"You have been registered, current balance : \", customer_data[login_id][\"balance\"])\n",
    "        np.save(\"customer_data.npy\", customer_data)\n",
    "    else:\n",
    "        print(\"Passwords don't match\")\n",
    "elif option == 3:\n",
    "    manager_id = input(\"Please enter manager id: \")\n",
    "    manager_pwd = input(\"Please enter manager password: \")\n",
    "    \n",
    "    if (manager_id == \"spark18manager@gmail.com\") and (hashlib.sha256(manager_pwd.encode(\"utf8\")).hexdigest() == customer_data[manager_id][\"pwd\"]):\n",
    "        \n",
    "        key_index = []\n",
    "        index = 0\n",
    "        for email_id in customer_data :\n",
    "            if email_id != manager_id:\n",
    "                print(index, email_id)\n",
    "                key_index.append(email_id)\n",
    "                index += 1\n",
    "        selection = input(\"please select the indexes of customers you want to view transactions for, separated by spaces: \")\n",
    "        selected_indices = np.unique(re.findall(r\"\\b\\d+\\b\",selection))\n",
    "        print(\"you have selected the following valid indices : \")\n",
    "        for index in selected_indices:\n",
    "            if int(index) < len(key_index) and int(index) > -1:\n",
    "                print(index, key_index[int(index)])\n",
    "                view_download_transaction(customer_data, key_index[int(index)],manager_id)\n",
    "    else:\n",
    "        print(\"Invalid Manager Password\")\n",
    "    "
   ]
  },
  {
   "cell_type": "code",
   "execution_count": 24,
   "id": "swedish-cleaner",
   "metadata": {},
   "outputs": [],
   "source": [
    "def do_transaction(customer_data,login_id,trans_hist):\n",
    "    transaction_type =int(input(\"[1] Deposit\\n[2] Withdraw\\n[3] Enquiry\\nPlease select anyone of the above options\"))\n",
    "    print(transaction_type)\n",
    "    if(transaction_type == 1):\n",
    "        amt = int(input(\"Enter the amount you want to deposit: \"))\n",
    "        customer_data[login_id][\"balance\"] = customer_data[login_id][\"balance\"] + amt\n",
    "        print(\"updated balance : \", customer_data[login_id][\"balance\"])\n",
    "        np.save(\"customer_data.npy\",customer_data)\n",
    "        trans_hist[\"date_time\"].append(dt.datetime.utcnow().timestamp())\n",
    "        trans_hist[\"balance\"].append(customer_data[login_id][\"balance\"])\n",
    "        trans_hist[\"transaction_type\"].append(\"deposit\")\n",
    "    elif(transaction_type ==2):\n",
    "        amt = int(input(\"Enter the amount you want to withdraw: \"))\n",
    "        if amt > customer_data[login_id][\"balance\"]:\n",
    "            print(\"amount withdrawn is greater than the current balance in account\\ncurrent balance : \",\n",
    "                 customer_data[login_id][\"balance\"])\n",
    "        else:\n",
    "            customer_data[login_id][\"balance\"] = customer_data[login_id][\"balance\"] - amt\n",
    "            print(\"updated balance : \", customer_data[login_id][\"balance\"])\n",
    "            np.save(\"customer_data.npy\",customer_data)\n",
    "            trans_hist[\"date_time\"].append(dt.datetime.utcnow().timestamp())\n",
    "            trans_hist[\"balance\"].append(customer_data[login_id][\"balance\"])\n",
    "            trans_hist[\"transaction_type\"].append(\"withdrawl\")\n",
    "    elif(transaction_type == 3):\n",
    "        print(\"Current Balance : \",customer_data[login_id][\"balance\"])"
   ]
  },
  {
   "cell_type": "code",
   "execution_count": 19,
   "id": "precious-morning",
   "metadata": {},
   "outputs": [],
   "source": [
    "def load_transaction_history(login_id):\n",
    "    foldername = \"transaction_history\"\n",
    "    filename = hashlib.sha256(login_id.encode(\"utf8\")).hexdigest() + \".csv\"\n",
    "    if  os.path.exists(os.path.join(foldername,filename) ) :\n",
    "        return pd.read_csv(os.path.join(foldername,filename),index_col = False).to_dict(\"list\")\n",
    "    else:\n",
    "        return {\n",
    "            \"date_time\" : [],\n",
    "            \"balance\": [],\n",
    "            \"transaction_type\" : []\n",
    "        }"
   ]
  },
  {
   "cell_type": "code",
   "execution_count": 20,
   "id": "facial-injury",
   "metadata": {},
   "outputs": [],
   "source": [
    "def save_transaction_history(trans_hist,login_id):\n",
    "    foldername = \"transaction_history\"\n",
    "    filename = hashlib.sha256(login_id.encode(\"utf8\")).hexdigest() + \".csv\"\n",
    "    pd.DataFrame(data=trans_hist).to_csv(os.path.join(foldername,filename),index=False)"
   ]
  },
  {
   "cell_type": "code",
   "execution_count": 21,
   "id": "naughty-detection",
   "metadata": {},
   "outputs": [],
   "source": [
    "def view_download_transaction(customer_data, login_id,manager_id):\n",
    "    print(\"please enter the date time period you want to see transaction\")\n",
    "    fr_yy = int(input(\"from year: \"))\n",
    "    fr_mm = int(input(\"from month: \"))\n",
    "    fr_dd = int(input(\"from day: \"))\n",
    "    to_yy = int(input(\"to year: \"))\n",
    "    to_mm = int(input(\"to month: \"))\n",
    "    to_dd = int(input(\"to day: \"))\n",
    "    fr_date = dt.datetime(year = fr_yy, month = fr_mm, day = fr_dd)\n",
    "    to_date = dt.datetime(year = to_yy, month = to_mm, day = to_dd)\n",
    "    trans_hist = load_transaction_history(login_id)\n",
    "    time_trans_hist = {\n",
    "    \"date_time\":[],\n",
    "    \"balance\":[],\n",
    "    \"transaction_type\":[]\n",
    "    }\n",
    "    index = 0\n",
    "    for timestamp in trans_hist[\"date_time\"]:\n",
    "        if timestamp >= fr_date.timestamp() and timestamp <= to_date.timestamp():\n",
    "            time_trans_hist[\"date_time\"].append(timestamp)\n",
    "            time_trans_hist[\"balance\"].append(trans_hist[\"balance\"][index])\n",
    "            time_trans_hist[\"transaction_type\"].append(trans_hist[\"transaction_type\"][index])\n",
    "        index += 1\n",
    "    print(\"transactions for time period \", fr_date,\" to \",to_date )\n",
    "    trans_df = pd.DataFrame(data = time_trans_hist)\n",
    "    print(trans_df)\n",
    "    to_mail = input(\"Do you want to mail yourself this transaction: \")\n",
    "    if to_mail == \"y\" or to_mail == \"Y\":\n",
    "        mail_transaction(trans_df,login_id,fr_date,to_date, manager_id)\n",
    "    "
   ]
  },
  {
   "cell_type": "code",
   "execution_count": 32,
   "id": "engaged-occasion",
   "metadata": {},
   "outputs": [],
   "source": [
    "def mail_transaction(trans_df,login_id,fr_date,to_date, manager_id):\n",
    "    subject = \"Spark18 bank transaction history for \"+ login_id\n",
    "    body = \"Please find attached transaction history for the billing period :\" + str(fr_date) + \" to \" + str(to_date)\n",
    "    sender_email = \"spark18test@gmail.com\"\n",
    "    receiver_email = manager_id\n",
    "    password = \"spark_18@ankita\"\n",
    "\n",
    "    message = MIMEMultipart()\n",
    "    message[\"From\"] = sender_email\n",
    "    message[\"To\"] = receiver_email\n",
    "    message[\"Subject\"] = subject\n",
    "\n",
    "    message.attach(MIMEText(body, \"plain\"))\n",
    "\n",
    "    foldername = \"transaction_history\"\n",
    "    filename = hashlib.sha256(login_id.encode(\"utf8\")).hexdigest() + \"transaction-history-\" + str(fr_date.timestamp()) + \\\n",
    "    str(to_date.timestamp()) + \".csv\"\n",
    "    trans_df.to_csv(os.path.join(foldername, filename), index = False)\n",
    "\n",
    "    with open(os.path.join(foldername,filename), \"rb\") as attachment:\n",
    "        part = MIMEBase(\"application\", \"octet-stream\")\n",
    "        part.set_payload(attachment.read())\n",
    "\n",
    "    # Encode file in ASCII characters to send by email    \n",
    "    encoders.encode_base64(part)\n",
    "\n",
    "    # Add header as key/value pair to attachment part\n",
    "    part.add_header(\n",
    "    \"Content-Disposition\",\n",
    "    f\"attachment; filename= transaction-history.csv\",\n",
    "    )\n",
    "\n",
    "    # Add attachment to message and convert message to string\n",
    "    message.attach(part)\n",
    "    text = message.as_string()\n",
    "\n",
    "    # Log in to server using secure context and send email\n",
    "    context = ssl.create_default_context()\n",
    "    with smtplib.SMTP_SSL(\"smtp.gmail.com\", 465, context=context) as server:\n",
    "        server.login(sender_email, password)\n",
    "        server.sendmail(sender_email, receiver_email, text)\n",
    "    \n",
    "    os.remove(os.path.join(foldername , filename))\n",
    "    print(\"Mail has been successfully sent\")"
   ]
  },
  {
   "cell_type": "code",
   "execution_count": 66,
   "id": "manufactured-radio",
   "metadata": {},
   "outputs": [],
   "source": []
  },
  {
   "cell_type": "code",
   "execution_count": 18,
   "id": "usual-significance",
   "metadata": {},
   "outputs": [
    {
     "name": "stdout",
     "output_type": "stream",
     "text": [
      "Please enter your login idankitasngh21@gmail.com\n",
      "please enter your password and press enter here : ankita\n"
     ]
    }
   ],
   "source": [
    "# #for Email\n",
    "# import smtplib, ssl\n",
    "\n",
    "# port = 465  # For SSL\n",
    "# login_id = input(\"Please enter your login id\")\n",
    "# login_pwd = input(\"please enter your password and press enter here : \")\n",
    "# if (login_id in customer_data) and (customer_data[login_id][\"pwd\"] == hashlib.sha256(login_pwd.encode(\"utf8\")).hexdigest()):\n",
    "#     context = ssl.create_default_context()\n",
    "\n",
    "#     with smtplib.SMTP_SSL(\"smtp.gmail.com\", port, context=context) as server:\n",
    "#         server.login(\"spark18test@gmail.com\",\"spark_18@ankita\")\n",
    "#         message = \"\"\"\\\n",
    "#         Subject: Hi there\n",
    "\n",
    "#         This message is sent from Python.\"\"\"\n",
    "#         server.sendmail(\"spark18test@gmail.com\",login_id,message)\n",
    "#         server.quit()\n",
    "\n",
    "# else:\n",
    "#     print(\"you have entered wrong id and password\")\n"
   ]
  }
 ],
 "metadata": {
  "kernelspec": {
   "display_name": "Python 3",
   "language": "python",
   "name": "python3"
  },
  "language_info": {
   "codemirror_mode": {
    "name": "ipython",
    "version": 3
   },
   "file_extension": ".py",
   "mimetype": "text/x-python",
   "name": "python",
   "nbconvert_exporter": "python",
   "pygments_lexer": "ipython3",
   "version": "3.8.8"
  }
 },
 "nbformat": 4,
 "nbformat_minor": 5
}
